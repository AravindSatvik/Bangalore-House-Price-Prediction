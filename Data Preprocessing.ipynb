{
 "cells": [
  {
   "cell_type": "markdown",
   "id": "governing-organ",
   "metadata": {},
   "source": [
    "# Importing the packages"
   ]
  },
  {
   "cell_type": "code",
   "execution_count": 47,
   "id": "neither-bowling",
   "metadata": {},
   "outputs": [],
   "source": [
    "import pandas as pd\n",
    "import numpy as np\n",
    "import matplotlib.pyplot as plt\n",
    "import seaborn as sns\n",
    "%matplotlib inline\n",
    "import matplotlib\n",
    "matplotlib.rcParams[\"figure.figsize\"] = (20,10)"
   ]
  },
  {
   "cell_type": "markdown",
   "id": "grave-chicken",
   "metadata": {},
   "source": [
    "# Reading the data from csv file"
   ]
  },
  {
   "cell_type": "code",
   "execution_count": 48,
   "id": "threaded-beaver",
   "metadata": {},
   "outputs": [
    {
     "data": {
      "text/html": [
       "<div>\n",
       "<style scoped>\n",
       "    .dataframe tbody tr th:only-of-type {\n",
       "        vertical-align: middle;\n",
       "    }\n",
       "\n",
       "    .dataframe tbody tr th {\n",
       "        vertical-align: top;\n",
       "    }\n",
       "\n",
       "    .dataframe thead th {\n",
       "        text-align: right;\n",
       "    }\n",
       "</style>\n",
       "<table border=\"1\" class=\"dataframe\">\n",
       "  <thead>\n",
       "    <tr style=\"text-align: right;\">\n",
       "      <th></th>\n",
       "      <th>area_type</th>\n",
       "      <th>availability</th>\n",
       "      <th>location</th>\n",
       "      <th>size</th>\n",
       "      <th>society</th>\n",
       "      <th>total_sqft</th>\n",
       "      <th>bath</th>\n",
       "      <th>balcony</th>\n",
       "      <th>price</th>\n",
       "    </tr>\n",
       "  </thead>\n",
       "  <tbody>\n",
       "    <tr>\n",
       "      <th>0</th>\n",
       "      <td>Super built-up  Area</td>\n",
       "      <td>19-Dec</td>\n",
       "      <td>Electronic City Phase II</td>\n",
       "      <td>2 BHK</td>\n",
       "      <td>Coomee</td>\n",
       "      <td>1056</td>\n",
       "      <td>2.0</td>\n",
       "      <td>1.0</td>\n",
       "      <td>39.07</td>\n",
       "    </tr>\n",
       "    <tr>\n",
       "      <th>1</th>\n",
       "      <td>Plot  Area</td>\n",
       "      <td>Ready To Move</td>\n",
       "      <td>Chikka Tirupathi</td>\n",
       "      <td>4 Bedroom</td>\n",
       "      <td>Theanmp</td>\n",
       "      <td>2600</td>\n",
       "      <td>5.0</td>\n",
       "      <td>3.0</td>\n",
       "      <td>120.00</td>\n",
       "    </tr>\n",
       "    <tr>\n",
       "      <th>2</th>\n",
       "      <td>Built-up  Area</td>\n",
       "      <td>Ready To Move</td>\n",
       "      <td>Uttarahalli</td>\n",
       "      <td>3 BHK</td>\n",
       "      <td>NaN</td>\n",
       "      <td>1440</td>\n",
       "      <td>2.0</td>\n",
       "      <td>3.0</td>\n",
       "      <td>62.00</td>\n",
       "    </tr>\n",
       "    <tr>\n",
       "      <th>3</th>\n",
       "      <td>Super built-up  Area</td>\n",
       "      <td>Ready To Move</td>\n",
       "      <td>Lingadheeranahalli</td>\n",
       "      <td>3 BHK</td>\n",
       "      <td>Soiewre</td>\n",
       "      <td>1521</td>\n",
       "      <td>3.0</td>\n",
       "      <td>1.0</td>\n",
       "      <td>95.00</td>\n",
       "    </tr>\n",
       "    <tr>\n",
       "      <th>4</th>\n",
       "      <td>Super built-up  Area</td>\n",
       "      <td>Ready To Move</td>\n",
       "      <td>Kothanur</td>\n",
       "      <td>2 BHK</td>\n",
       "      <td>NaN</td>\n",
       "      <td>1200</td>\n",
       "      <td>2.0</td>\n",
       "      <td>1.0</td>\n",
       "      <td>51.00</td>\n",
       "    </tr>\n",
       "  </tbody>\n",
       "</table>\n",
       "</div>"
      ],
      "text/plain": [
       "              area_type   availability                  location       size  \\\n",
       "0  Super built-up  Area         19-Dec  Electronic City Phase II      2 BHK   \n",
       "1            Plot  Area  Ready To Move          Chikka Tirupathi  4 Bedroom   \n",
       "2        Built-up  Area  Ready To Move               Uttarahalli      3 BHK   \n",
       "3  Super built-up  Area  Ready To Move        Lingadheeranahalli      3 BHK   \n",
       "4  Super built-up  Area  Ready To Move                  Kothanur      2 BHK   \n",
       "\n",
       "   society total_sqft  bath  balcony   price  \n",
       "0  Coomee        1056   2.0      1.0   39.07  \n",
       "1  Theanmp       2600   5.0      3.0  120.00  \n",
       "2      NaN       1440   2.0      3.0   62.00  \n",
       "3  Soiewre       1521   3.0      1.0   95.00  \n",
       "4      NaN       1200   2.0      1.0   51.00  "
      ]
     },
     "execution_count": 48,
     "metadata": {},
     "output_type": "execute_result"
    }
   ],
   "source": [
    "df=pd.read_csv(\"Bengaluru_House_Data.csv\")\n",
    "df.head()"
   ]
  },
  {
   "cell_type": "code",
   "execution_count": 49,
   "id": "split-macedonia",
   "metadata": {},
   "outputs": [
    {
     "data": {
      "text/plain": [
       "(13320, 9)"
      ]
     },
     "execution_count": 49,
     "metadata": {},
     "output_type": "execute_result"
    }
   ],
   "source": [
    "df.shape"
   ]
  },
  {
   "cell_type": "code",
   "execution_count": 50,
   "id": "interesting-jimmy",
   "metadata": {},
   "outputs": [
    {
     "data": {
      "text/plain": [
       "area_type\n",
       "Built-up  Area          2418\n",
       "Carpet  Area              87\n",
       "Plot  Area              2025\n",
       "Super built-up  Area    8790\n",
       "Name: area_type, dtype: int64"
      ]
     },
     "execution_count": 50,
     "metadata": {},
     "output_type": "execute_result"
    }
   ],
   "source": [
    "g=df.groupby('area_type')['area_type']\n",
    "g.count()\n",
    "#df.groupby('area_type')['area_type'].agg('count')"
   ]
  },
  {
   "cell_type": "markdown",
   "id": "commercial-saturday",
   "metadata": {},
   "source": [
    "# Deleting unnecessary columns"
   ]
  },
  {
   "cell_type": "code",
   "execution_count": 51,
   "id": "distant-wildlife",
   "metadata": {},
   "outputs": [
    {
     "data": {
      "text/html": [
       "<div>\n",
       "<style scoped>\n",
       "    .dataframe tbody tr th:only-of-type {\n",
       "        vertical-align: middle;\n",
       "    }\n",
       "\n",
       "    .dataframe tbody tr th {\n",
       "        vertical-align: top;\n",
       "    }\n",
       "\n",
       "    .dataframe thead th {\n",
       "        text-align: right;\n",
       "    }\n",
       "</style>\n",
       "<table border=\"1\" class=\"dataframe\">\n",
       "  <thead>\n",
       "    <tr style=\"text-align: right;\">\n",
       "      <th></th>\n",
       "      <th>location</th>\n",
       "      <th>size</th>\n",
       "      <th>total_sqft</th>\n",
       "      <th>bath</th>\n",
       "      <th>price</th>\n",
       "    </tr>\n",
       "  </thead>\n",
       "  <tbody>\n",
       "    <tr>\n",
       "      <th>0</th>\n",
       "      <td>Electronic City Phase II</td>\n",
       "      <td>2 BHK</td>\n",
       "      <td>1056</td>\n",
       "      <td>2.0</td>\n",
       "      <td>39.07</td>\n",
       "    </tr>\n",
       "    <tr>\n",
       "      <th>1</th>\n",
       "      <td>Chikka Tirupathi</td>\n",
       "      <td>4 Bedroom</td>\n",
       "      <td>2600</td>\n",
       "      <td>5.0</td>\n",
       "      <td>120.00</td>\n",
       "    </tr>\n",
       "    <tr>\n",
       "      <th>2</th>\n",
       "      <td>Uttarahalli</td>\n",
       "      <td>3 BHK</td>\n",
       "      <td>1440</td>\n",
       "      <td>2.0</td>\n",
       "      <td>62.00</td>\n",
       "    </tr>\n",
       "    <tr>\n",
       "      <th>3</th>\n",
       "      <td>Lingadheeranahalli</td>\n",
       "      <td>3 BHK</td>\n",
       "      <td>1521</td>\n",
       "      <td>3.0</td>\n",
       "      <td>95.00</td>\n",
       "    </tr>\n",
       "    <tr>\n",
       "      <th>4</th>\n",
       "      <td>Kothanur</td>\n",
       "      <td>2 BHK</td>\n",
       "      <td>1200</td>\n",
       "      <td>2.0</td>\n",
       "      <td>51.00</td>\n",
       "    </tr>\n",
       "  </tbody>\n",
       "</table>\n",
       "</div>"
      ],
      "text/plain": [
       "                   location       size total_sqft  bath   price\n",
       "0  Electronic City Phase II      2 BHK       1056   2.0   39.07\n",
       "1          Chikka Tirupathi  4 Bedroom       2600   5.0  120.00\n",
       "2               Uttarahalli      3 BHK       1440   2.0   62.00\n",
       "3        Lingadheeranahalli      3 BHK       1521   3.0   95.00\n",
       "4                  Kothanur      2 BHK       1200   2.0   51.00"
      ]
     },
     "execution_count": 51,
     "metadata": {},
     "output_type": "execute_result"
    }
   ],
   "source": [
    "df2=df.drop(['area_type','availability','society','balcony'],axis=\"columns\")\n",
    "df2.head()"
   ]
  },
  {
   "cell_type": "markdown",
   "id": "cross-firewall",
   "metadata": {},
   "source": [
    "# Data cleaning"
   ]
  },
  {
   "cell_type": "code",
   "execution_count": 52,
   "id": "iraqi-firmware",
   "metadata": {},
   "outputs": [
    {
     "data": {
      "text/plain": [
       "location       1\n",
       "size          16\n",
       "total_sqft     0\n",
       "bath          73\n",
       "price          0\n",
       "dtype: int64"
      ]
     },
     "execution_count": 52,
     "metadata": {},
     "output_type": "execute_result"
    }
   ],
   "source": [
    "df2.isnull().sum()"
   ]
  },
  {
   "cell_type": "code",
   "execution_count": 53,
   "id": "married-inquiry",
   "metadata": {},
   "outputs": [],
   "source": [
    "df2=df2[df2['size'].notna()]\n",
    "df2=df2[df2['location'].notna()]"
   ]
  },
  {
   "cell_type": "code",
   "execution_count": 54,
   "id": "fatal-ministry",
   "metadata": {},
   "outputs": [
    {
     "data": {
      "text/plain": [
       "(13303, 5)"
      ]
     },
     "execution_count": 54,
     "metadata": {},
     "output_type": "execute_result"
    }
   ],
   "source": [
    "df2.shape"
   ]
  },
  {
   "cell_type": "markdown",
   "id": "random-norway",
   "metadata": {},
   "source": [
    "Removing alphabets from size column and converting to integer..."
   ]
  },
  {
   "cell_type": "code",
   "execution_count": 55,
   "id": "usual-tumor",
   "metadata": {},
   "outputs": [],
   "source": [
    "df2=df2.replace({\n",
    "    'size':'[A-Za-z]'\n",
    "},'',regex=True)"
   ]
  },
  {
   "cell_type": "code",
   "execution_count": 56,
   "id": "interpreted-haiti",
   "metadata": {},
   "outputs": [],
   "source": [
    "df3=df2['size'].apply(lambda x:int(x[0:len(x)-1]))"
   ]
  },
  {
   "cell_type": "code",
   "execution_count": 57,
   "id": "everyday-opposition",
   "metadata": {},
   "outputs": [],
   "source": [
    "df2=df2.drop(['size'],axis=\"columns\")"
   ]
  },
  {
   "cell_type": "code",
   "execution_count": 58,
   "id": "enhanced-stretch",
   "metadata": {},
   "outputs": [],
   "source": [
    "df3=pd.concat([df2,df3],axis=1)"
   ]
  },
  {
   "cell_type": "code",
   "execution_count": 59,
   "id": "apart-terry",
   "metadata": {},
   "outputs": [
    {
     "data": {
      "text/html": [
       "<div>\n",
       "<style scoped>\n",
       "    .dataframe tbody tr th:only-of-type {\n",
       "        vertical-align: middle;\n",
       "    }\n",
       "\n",
       "    .dataframe tbody tr th {\n",
       "        vertical-align: top;\n",
       "    }\n",
       "\n",
       "    .dataframe thead th {\n",
       "        text-align: right;\n",
       "    }\n",
       "</style>\n",
       "<table border=\"1\" class=\"dataframe\">\n",
       "  <thead>\n",
       "    <tr style=\"text-align: right;\">\n",
       "      <th></th>\n",
       "      <th>location</th>\n",
       "      <th>total_sqft</th>\n",
       "      <th>bath</th>\n",
       "      <th>price</th>\n",
       "      <th>size</th>\n",
       "    </tr>\n",
       "  </thead>\n",
       "  <tbody>\n",
       "    <tr>\n",
       "      <th>0</th>\n",
       "      <td>Electronic City Phase II</td>\n",
       "      <td>1056</td>\n",
       "      <td>2.0</td>\n",
       "      <td>39.07</td>\n",
       "      <td>2</td>\n",
       "    </tr>\n",
       "    <tr>\n",
       "      <th>1</th>\n",
       "      <td>Chikka Tirupathi</td>\n",
       "      <td>2600</td>\n",
       "      <td>5.0</td>\n",
       "      <td>120.00</td>\n",
       "      <td>4</td>\n",
       "    </tr>\n",
       "    <tr>\n",
       "      <th>2</th>\n",
       "      <td>Uttarahalli</td>\n",
       "      <td>1440</td>\n",
       "      <td>2.0</td>\n",
       "      <td>62.00</td>\n",
       "      <td>3</td>\n",
       "    </tr>\n",
       "    <tr>\n",
       "      <th>3</th>\n",
       "      <td>Lingadheeranahalli</td>\n",
       "      <td>1521</td>\n",
       "      <td>3.0</td>\n",
       "      <td>95.00</td>\n",
       "      <td>3</td>\n",
       "    </tr>\n",
       "    <tr>\n",
       "      <th>4</th>\n",
       "      <td>Kothanur</td>\n",
       "      <td>1200</td>\n",
       "      <td>2.0</td>\n",
       "      <td>51.00</td>\n",
       "      <td>2</td>\n",
       "    </tr>\n",
       "    <tr>\n",
       "      <th>...</th>\n",
       "      <td>...</td>\n",
       "      <td>...</td>\n",
       "      <td>...</td>\n",
       "      <td>...</td>\n",
       "      <td>...</td>\n",
       "    </tr>\n",
       "    <tr>\n",
       "      <th>13315</th>\n",
       "      <td>Whitefield</td>\n",
       "      <td>3453</td>\n",
       "      <td>4.0</td>\n",
       "      <td>231.00</td>\n",
       "      <td>5</td>\n",
       "    </tr>\n",
       "    <tr>\n",
       "      <th>13316</th>\n",
       "      <td>Richards Town</td>\n",
       "      <td>3600</td>\n",
       "      <td>5.0</td>\n",
       "      <td>400.00</td>\n",
       "      <td>4</td>\n",
       "    </tr>\n",
       "    <tr>\n",
       "      <th>13317</th>\n",
       "      <td>Raja Rajeshwari Nagar</td>\n",
       "      <td>1141</td>\n",
       "      <td>2.0</td>\n",
       "      <td>60.00</td>\n",
       "      <td>2</td>\n",
       "    </tr>\n",
       "    <tr>\n",
       "      <th>13318</th>\n",
       "      <td>Padmanabhanagar</td>\n",
       "      <td>4689</td>\n",
       "      <td>4.0</td>\n",
       "      <td>488.00</td>\n",
       "      <td>4</td>\n",
       "    </tr>\n",
       "    <tr>\n",
       "      <th>13319</th>\n",
       "      <td>Doddathoguru</td>\n",
       "      <td>550</td>\n",
       "      <td>1.0</td>\n",
       "      <td>17.00</td>\n",
       "      <td>1</td>\n",
       "    </tr>\n",
       "  </tbody>\n",
       "</table>\n",
       "<p>13303 rows × 5 columns</p>\n",
       "</div>"
      ],
      "text/plain": [
       "                       location total_sqft  bath   price  size\n",
       "0      Electronic City Phase II       1056   2.0   39.07     2\n",
       "1              Chikka Tirupathi       2600   5.0  120.00     4\n",
       "2                   Uttarahalli       1440   2.0   62.00     3\n",
       "3            Lingadheeranahalli       1521   3.0   95.00     3\n",
       "4                      Kothanur       1200   2.0   51.00     2\n",
       "...                         ...        ...   ...     ...   ...\n",
       "13315                Whitefield       3453   4.0  231.00     5\n",
       "13316             Richards Town       3600   5.0  400.00     4\n",
       "13317     Raja Rajeshwari Nagar       1141   2.0   60.00     2\n",
       "13318           Padmanabhanagar       4689   4.0  488.00     4\n",
       "13319              Doddathoguru        550   1.0   17.00     1\n",
       "\n",
       "[13303 rows x 5 columns]"
      ]
     },
     "execution_count": 59,
     "metadata": {},
     "output_type": "execute_result"
    }
   ],
   "source": [
    "df3"
   ]
  },
  {
   "cell_type": "code",
   "execution_count": 60,
   "id": "reduced-homework",
   "metadata": {},
   "outputs": [
    {
     "data": {
      "text/plain": [
       "location       0\n",
       "total_sqft     0\n",
       "bath          57\n",
       "price          0\n",
       "size           0\n",
       "dtype: int64"
      ]
     },
     "execution_count": 60,
     "metadata": {},
     "output_type": "execute_result"
    }
   ],
   "source": [
    "df3.isnull().sum()"
   ]
  },
  {
   "cell_type": "markdown",
   "id": "christian-department",
   "metadata": {},
   "source": [
    "NaN values present in 'bath' column is filled with the median of bathrooms of that specific BHK size in the dataframe"
   ]
  },
  {
   "cell_type": "code",
   "execution_count": 61,
   "id": "insured-blackjack",
   "metadata": {},
   "outputs": [],
   "source": [
    "zz=df3.groupby('size')"
   ]
  },
  {
   "cell_type": "code",
   "execution_count": 62,
   "id": "excessive-judges",
   "metadata": {},
   "outputs": [
    {
     "data": {
      "text/plain": [
       "{1: 1.0,\n",
       " 2: 2.0,\n",
       " 3: 3.0,\n",
       " 4: 4.0,\n",
       " 5: 5.0,\n",
       " 6: 6.0,\n",
       " 7: 7.0,\n",
       " 8: 8.0,\n",
       " 9: 9.0,\n",
       " 10: 10.0,\n",
       " 11: 10.0,\n",
       " 12: 6.0,\n",
       " 13: 13.0,\n",
       " 14: 15.0,\n",
       " 16: 16.0,\n",
       " 18: 18.0,\n",
       " 19: 16.0,\n",
       " 27: 27.0,\n",
       " 43: 40.0}"
      ]
     },
     "execution_count": 62,
     "metadata": {},
     "output_type": "execute_result"
    }
   ],
   "source": [
    "bath_dict={}\n",
    "for a,s in zz:\n",
    "    bath_dict[a]=s['bath'].median()\n",
    "bath_dict"
   ]
  },
  {
   "cell_type": "code",
   "execution_count": 63,
   "id": "interior-coupon",
   "metadata": {},
   "outputs": [
    {
     "data": {
      "text/html": [
       "<div>\n",
       "<style scoped>\n",
       "    .dataframe tbody tr th:only-of-type {\n",
       "        vertical-align: middle;\n",
       "    }\n",
       "\n",
       "    .dataframe tbody tr th {\n",
       "        vertical-align: top;\n",
       "    }\n",
       "\n",
       "    .dataframe thead th {\n",
       "        text-align: right;\n",
       "    }\n",
       "</style>\n",
       "<table border=\"1\" class=\"dataframe\">\n",
       "  <thead>\n",
       "    <tr style=\"text-align: right;\">\n",
       "      <th></th>\n",
       "      <th>index</th>\n",
       "      <th>location</th>\n",
       "      <th>total_sqft</th>\n",
       "      <th>bath</th>\n",
       "      <th>price</th>\n",
       "      <th>size</th>\n",
       "    </tr>\n",
       "  </thead>\n",
       "  <tbody>\n",
       "    <tr>\n",
       "      <th>13298</th>\n",
       "      <td>13315</td>\n",
       "      <td>Whitefield</td>\n",
       "      <td>3453</td>\n",
       "      <td>4.0</td>\n",
       "      <td>231.0</td>\n",
       "      <td>5</td>\n",
       "    </tr>\n",
       "    <tr>\n",
       "      <th>13299</th>\n",
       "      <td>13316</td>\n",
       "      <td>Richards Town</td>\n",
       "      <td>3600</td>\n",
       "      <td>5.0</td>\n",
       "      <td>400.0</td>\n",
       "      <td>4</td>\n",
       "    </tr>\n",
       "    <tr>\n",
       "      <th>13300</th>\n",
       "      <td>13317</td>\n",
       "      <td>Raja Rajeshwari Nagar</td>\n",
       "      <td>1141</td>\n",
       "      <td>2.0</td>\n",
       "      <td>60.0</td>\n",
       "      <td>2</td>\n",
       "    </tr>\n",
       "    <tr>\n",
       "      <th>13301</th>\n",
       "      <td>13318</td>\n",
       "      <td>Padmanabhanagar</td>\n",
       "      <td>4689</td>\n",
       "      <td>4.0</td>\n",
       "      <td>488.0</td>\n",
       "      <td>4</td>\n",
       "    </tr>\n",
       "    <tr>\n",
       "      <th>13302</th>\n",
       "      <td>13319</td>\n",
       "      <td>Doddathoguru</td>\n",
       "      <td>550</td>\n",
       "      <td>1.0</td>\n",
       "      <td>17.0</td>\n",
       "      <td>1</td>\n",
       "    </tr>\n",
       "  </tbody>\n",
       "</table>\n",
       "</div>"
      ],
      "text/plain": [
       "       index               location total_sqft  bath  price  size\n",
       "13298  13315             Whitefield       3453   4.0  231.0     5\n",
       "13299  13316          Richards Town       3600   5.0  400.0     4\n",
       "13300  13317  Raja Rajeshwari Nagar       1141   2.0   60.0     2\n",
       "13301  13318        Padmanabhanagar       4689   4.0  488.0     4\n",
       "13302  13319           Doddathoguru        550   1.0   17.0     1"
      ]
     },
     "execution_count": 63,
     "metadata": {},
     "output_type": "execute_result"
    }
   ],
   "source": [
    "df7=df3.copy()\n",
    "df7.reset_index(inplace=True)\n",
    "df7.tail()"
   ]
  },
  {
   "cell_type": "code",
   "execution_count": 64,
   "id": "understanding-smile",
   "metadata": {
    "scrolled": true
   },
   "outputs": [
    {
     "name": "stderr",
     "output_type": "stream",
     "text": [
      "<ipython-input-64-e5b0ee8505a2>:4: SettingWithCopyWarning: \n",
      "A value is trying to be set on a copy of a slice from a DataFrame.\n",
      "Try using .loc[row_indexer,col_indexer] = value instead\n",
      "\n",
      "See the caveats in the documentation: https://pandas.pydata.org/pandas-docs/stable/user_guide/indexing.html#returning-a-view-versus-a-copy\n",
      "  df7[i:i+1]['bath']=bath_dict[df7.loc[i]['size']]\n"
     ]
    }
   ],
   "source": [
    "import math\n",
    "for i,row in df7.iterrows():\n",
    "    if (math.isnan(row['bath'])):\n",
    "        df7[i:i+1]['bath']=bath_dict[df7.loc[i]['size']]"
   ]
  },
  {
   "cell_type": "code",
   "execution_count": 65,
   "id": "ranking-processor",
   "metadata": {},
   "outputs": [
    {
     "data": {
      "text/plain": [
       "index         0\n",
       "location      0\n",
       "total_sqft    0\n",
       "bath          0\n",
       "price         0\n",
       "size          0\n",
       "dtype: int64"
      ]
     },
     "execution_count": 65,
     "metadata": {},
     "output_type": "execute_result"
    }
   ],
   "source": [
    "df7.isnull().sum()"
   ]
  },
  {
   "cell_type": "markdown",
   "id": "worldwide-amino",
   "metadata": {},
   "source": [
    "In 'total_sqft' column, there are some values given in ranges. Those ranges are replaced by the average of min. value and max. value. Also, some values are not given in sq. feet. Such values are deleted from the column..."
   ]
  },
  {
   "cell_type": "code",
   "execution_count": 66,
   "id": "hollywood-sweet",
   "metadata": {},
   "outputs": [],
   "source": [
    "def meanfunction(x):\n",
    "    listt=x.split(\"-\")\n",
    "    if len(listt)==2:\n",
    "        return float(listt[0])+float(listt[1])/2\n",
    "    try:\n",
    "        return float(x)\n",
    "    except:\n",
    "        return None\n",
    "\n",
    "df7['total_sqft']=df7['total_sqft'].apply(meanfunction)"
   ]
  },
  {
   "cell_type": "code",
   "execution_count": 67,
   "id": "fluid-separate",
   "metadata": {},
   "outputs": [],
   "source": [
    "df7=df7.dropna()\n",
    "df7.reset_index(inplace=True)\n",
    "df7=df7.drop('index',axis=\"columns\")"
   ]
  },
  {
   "cell_type": "code",
   "execution_count": 68,
   "id": "certain-craft",
   "metadata": {},
   "outputs": [
    {
     "data": {
      "text/html": [
       "<div>\n",
       "<style scoped>\n",
       "    .dataframe tbody tr th:only-of-type {\n",
       "        vertical-align: middle;\n",
       "    }\n",
       "\n",
       "    .dataframe tbody tr th {\n",
       "        vertical-align: top;\n",
       "    }\n",
       "\n",
       "    .dataframe thead th {\n",
       "        text-align: right;\n",
       "    }\n",
       "</style>\n",
       "<table border=\"1\" class=\"dataframe\">\n",
       "  <thead>\n",
       "    <tr style=\"text-align: right;\">\n",
       "      <th></th>\n",
       "      <th>location</th>\n",
       "      <th>total_sqft</th>\n",
       "      <th>bath</th>\n",
       "      <th>price</th>\n",
       "      <th>size</th>\n",
       "    </tr>\n",
       "  </thead>\n",
       "  <tbody>\n",
       "    <tr>\n",
       "      <th>0</th>\n",
       "      <td>Electronic City Phase II</td>\n",
       "      <td>1056.0</td>\n",
       "      <td>2.0</td>\n",
       "      <td>39.07</td>\n",
       "      <td>2</td>\n",
       "    </tr>\n",
       "    <tr>\n",
       "      <th>1</th>\n",
       "      <td>Chikka Tirupathi</td>\n",
       "      <td>2600.0</td>\n",
       "      <td>5.0</td>\n",
       "      <td>120.00</td>\n",
       "      <td>4</td>\n",
       "    </tr>\n",
       "    <tr>\n",
       "      <th>2</th>\n",
       "      <td>Uttarahalli</td>\n",
       "      <td>1440.0</td>\n",
       "      <td>2.0</td>\n",
       "      <td>62.00</td>\n",
       "      <td>3</td>\n",
       "    </tr>\n",
       "    <tr>\n",
       "      <th>3</th>\n",
       "      <td>Lingadheeranahalli</td>\n",
       "      <td>1521.0</td>\n",
       "      <td>3.0</td>\n",
       "      <td>95.00</td>\n",
       "      <td>3</td>\n",
       "    </tr>\n",
       "    <tr>\n",
       "      <th>4</th>\n",
       "      <td>Kothanur</td>\n",
       "      <td>1200.0</td>\n",
       "      <td>2.0</td>\n",
       "      <td>51.00</td>\n",
       "      <td>2</td>\n",
       "    </tr>\n",
       "    <tr>\n",
       "      <th>...</th>\n",
       "      <td>...</td>\n",
       "      <td>...</td>\n",
       "      <td>...</td>\n",
       "      <td>...</td>\n",
       "      <td>...</td>\n",
       "    </tr>\n",
       "    <tr>\n",
       "      <th>13252</th>\n",
       "      <td>Whitefield</td>\n",
       "      <td>3453.0</td>\n",
       "      <td>4.0</td>\n",
       "      <td>231.00</td>\n",
       "      <td>5</td>\n",
       "    </tr>\n",
       "    <tr>\n",
       "      <th>13253</th>\n",
       "      <td>Richards Town</td>\n",
       "      <td>3600.0</td>\n",
       "      <td>5.0</td>\n",
       "      <td>400.00</td>\n",
       "      <td>4</td>\n",
       "    </tr>\n",
       "    <tr>\n",
       "      <th>13254</th>\n",
       "      <td>Raja Rajeshwari Nagar</td>\n",
       "      <td>1141.0</td>\n",
       "      <td>2.0</td>\n",
       "      <td>60.00</td>\n",
       "      <td>2</td>\n",
       "    </tr>\n",
       "    <tr>\n",
       "      <th>13255</th>\n",
       "      <td>Padmanabhanagar</td>\n",
       "      <td>4689.0</td>\n",
       "      <td>4.0</td>\n",
       "      <td>488.00</td>\n",
       "      <td>4</td>\n",
       "    </tr>\n",
       "    <tr>\n",
       "      <th>13256</th>\n",
       "      <td>Doddathoguru</td>\n",
       "      <td>550.0</td>\n",
       "      <td>1.0</td>\n",
       "      <td>17.00</td>\n",
       "      <td>1</td>\n",
       "    </tr>\n",
       "  </tbody>\n",
       "</table>\n",
       "<p>13257 rows × 5 columns</p>\n",
       "</div>"
      ],
      "text/plain": [
       "                       location  total_sqft  bath   price  size\n",
       "0      Electronic City Phase II      1056.0   2.0   39.07     2\n",
       "1              Chikka Tirupathi      2600.0   5.0  120.00     4\n",
       "2                   Uttarahalli      1440.0   2.0   62.00     3\n",
       "3            Lingadheeranahalli      1521.0   3.0   95.00     3\n",
       "4                      Kothanur      1200.0   2.0   51.00     2\n",
       "...                         ...         ...   ...     ...   ...\n",
       "13252                Whitefield      3453.0   4.0  231.00     5\n",
       "13253             Richards Town      3600.0   5.0  400.00     4\n",
       "13254     Raja Rajeshwari Nagar      1141.0   2.0   60.00     2\n",
       "13255           Padmanabhanagar      4689.0   4.0  488.00     4\n",
       "13256              Doddathoguru       550.0   1.0   17.00     1\n",
       "\n",
       "[13257 rows x 5 columns]"
      ]
     },
     "execution_count": 68,
     "metadata": {},
     "output_type": "execute_result"
    }
   ],
   "source": [
    "df7=df7.drop('level_0',axis=\"columns\")\n",
    "df7"
   ]
  },
  {
   "cell_type": "code",
   "execution_count": 95,
   "id": "divided-indication",
   "metadata": {},
   "outputs": [],
   "source": [
    "df7.to_csv(\"Dataset after data cleaning.csv\")"
   ]
  },
  {
   "cell_type": "markdown",
   "id": "authorized-thesis",
   "metadata": {},
   "source": [
    "# Feature Engineering"
   ]
  },
  {
   "cell_type": "markdown",
   "id": "maritime-burning",
   "metadata": {},
   "source": [
    "'Price per sq. feet' column is added to the dataframe."
   ]
  },
  {
   "cell_type": "code",
   "execution_count": 70,
   "id": "toxic-arlington",
   "metadata": {},
   "outputs": [
    {
     "data": {
      "text/html": [
       "<div>\n",
       "<style scoped>\n",
       "    .dataframe tbody tr th:only-of-type {\n",
       "        vertical-align: middle;\n",
       "    }\n",
       "\n",
       "    .dataframe tbody tr th {\n",
       "        vertical-align: top;\n",
       "    }\n",
       "\n",
       "    .dataframe thead th {\n",
       "        text-align: right;\n",
       "    }\n",
       "</style>\n",
       "<table border=\"1\" class=\"dataframe\">\n",
       "  <thead>\n",
       "    <tr style=\"text-align: right;\">\n",
       "      <th></th>\n",
       "      <th>location</th>\n",
       "      <th>total_sqft</th>\n",
       "      <th>bath</th>\n",
       "      <th>price</th>\n",
       "      <th>size</th>\n",
       "      <th>price per sqft</th>\n",
       "    </tr>\n",
       "  </thead>\n",
       "  <tbody>\n",
       "    <tr>\n",
       "      <th>0</th>\n",
       "      <td>Electronic City Phase II</td>\n",
       "      <td>1056.0</td>\n",
       "      <td>2.0</td>\n",
       "      <td>39.07</td>\n",
       "      <td>2</td>\n",
       "      <td>3699.810606</td>\n",
       "    </tr>\n",
       "    <tr>\n",
       "      <th>1</th>\n",
       "      <td>Chikka Tirupathi</td>\n",
       "      <td>2600.0</td>\n",
       "      <td>5.0</td>\n",
       "      <td>120.00</td>\n",
       "      <td>4</td>\n",
       "      <td>4615.384615</td>\n",
       "    </tr>\n",
       "    <tr>\n",
       "      <th>2</th>\n",
       "      <td>Uttarahalli</td>\n",
       "      <td>1440.0</td>\n",
       "      <td>2.0</td>\n",
       "      <td>62.00</td>\n",
       "      <td>3</td>\n",
       "      <td>4305.555556</td>\n",
       "    </tr>\n",
       "    <tr>\n",
       "      <th>3</th>\n",
       "      <td>Lingadheeranahalli</td>\n",
       "      <td>1521.0</td>\n",
       "      <td>3.0</td>\n",
       "      <td>95.00</td>\n",
       "      <td>3</td>\n",
       "      <td>6245.890861</td>\n",
       "    </tr>\n",
       "    <tr>\n",
       "      <th>4</th>\n",
       "      <td>Kothanur</td>\n",
       "      <td>1200.0</td>\n",
       "      <td>2.0</td>\n",
       "      <td>51.00</td>\n",
       "      <td>2</td>\n",
       "      <td>4250.000000</td>\n",
       "    </tr>\n",
       "  </tbody>\n",
       "</table>\n",
       "</div>"
      ],
      "text/plain": [
       "                   location  total_sqft  bath   price  size  price per sqft\n",
       "0  Electronic City Phase II      1056.0   2.0   39.07     2     3699.810606\n",
       "1          Chikka Tirupathi      2600.0   5.0  120.00     4     4615.384615\n",
       "2               Uttarahalli      1440.0   2.0   62.00     3     4305.555556\n",
       "3        Lingadheeranahalli      1521.0   3.0   95.00     3     6245.890861\n",
       "4                  Kothanur      1200.0   2.0   51.00     2     4250.000000"
      ]
     },
     "execution_count": 70,
     "metadata": {},
     "output_type": "execute_result"
    }
   ],
   "source": [
    "df8=df7.copy()\n",
    "df8['price per sqft']=df8['price']*100000/df8['total_sqft']\n",
    "df8.head()"
   ]
  },
  {
   "cell_type": "code",
   "execution_count": 71,
   "id": "postal-constitutional",
   "metadata": {},
   "outputs": [
    {
     "data": {
      "text/plain": [
       "1298"
      ]
     },
     "execution_count": 71,
     "metadata": {},
     "output_type": "execute_result"
    }
   ],
   "source": [
    "len(df8.location.unique())"
   ]
  },
  {
   "cell_type": "markdown",
   "id": "allied-display",
   "metadata": {},
   "source": [
    "While applying machine learning models, if there is categorical data in any column, we use \"ONE HOT ENCODER\" to create the dummy columns. Here, in 'location' column, there 1298 unique values. Applying one hot encoder is difficult in this case. This is a high dimensionality problem. So, 'Other' value will be created in 'location' column which contains all the locations which are present in less than or equal to 10 rows in the dataframe. (means those location names are replaced by the name 'Other')"
   ]
  },
  {
   "cell_type": "markdown",
   "id": "mighty-trunk",
   "metadata": {},
   "source": [
    "Spaces in starting and ending of location values are removed by using strip() method."
   ]
  },
  {
   "cell_type": "code",
   "execution_count": 72,
   "id": "regulated-selling",
   "metadata": {},
   "outputs": [],
   "source": [
    "df8.location=df8.location.apply(lambda x:x.strip())"
   ]
  },
  {
   "cell_type": "code",
   "execution_count": 73,
   "id": "backed-realtor",
   "metadata": {},
   "outputs": [
    {
     "data": {
      "text/html": [
       "<div>\n",
       "<style scoped>\n",
       "    .dataframe tbody tr th:only-of-type {\n",
       "        vertical-align: middle;\n",
       "    }\n",
       "\n",
       "    .dataframe tbody tr th {\n",
       "        vertical-align: top;\n",
       "    }\n",
       "\n",
       "    .dataframe thead th {\n",
       "        text-align: right;\n",
       "    }\n",
       "</style>\n",
       "<table border=\"1\" class=\"dataframe\">\n",
       "  <thead>\n",
       "    <tr style=\"text-align: right;\">\n",
       "      <th></th>\n",
       "      <th>location</th>\n",
       "      <th>total_sqft</th>\n",
       "      <th>bath</th>\n",
       "      <th>price</th>\n",
       "      <th>size</th>\n",
       "      <th>price per sqft</th>\n",
       "    </tr>\n",
       "  </thead>\n",
       "  <tbody>\n",
       "    <tr>\n",
       "      <th>0</th>\n",
       "      <td>Electronic City Phase II</td>\n",
       "      <td>1056.0</td>\n",
       "      <td>2.0</td>\n",
       "      <td>39.07</td>\n",
       "      <td>2</td>\n",
       "      <td>3699.810606</td>\n",
       "    </tr>\n",
       "    <tr>\n",
       "      <th>1</th>\n",
       "      <td>Chikka Tirupathi</td>\n",
       "      <td>2600.0</td>\n",
       "      <td>5.0</td>\n",
       "      <td>120.00</td>\n",
       "      <td>4</td>\n",
       "      <td>4615.384615</td>\n",
       "    </tr>\n",
       "    <tr>\n",
       "      <th>2</th>\n",
       "      <td>Uttarahalli</td>\n",
       "      <td>1440.0</td>\n",
       "      <td>2.0</td>\n",
       "      <td>62.00</td>\n",
       "      <td>3</td>\n",
       "      <td>4305.555556</td>\n",
       "    </tr>\n",
       "    <tr>\n",
       "      <th>3</th>\n",
       "      <td>Lingadheeranahalli</td>\n",
       "      <td>1521.0</td>\n",
       "      <td>3.0</td>\n",
       "      <td>95.00</td>\n",
       "      <td>3</td>\n",
       "      <td>6245.890861</td>\n",
       "    </tr>\n",
       "    <tr>\n",
       "      <th>4</th>\n",
       "      <td>Kothanur</td>\n",
       "      <td>1200.0</td>\n",
       "      <td>2.0</td>\n",
       "      <td>51.00</td>\n",
       "      <td>2</td>\n",
       "      <td>4250.000000</td>\n",
       "    </tr>\n",
       "    <tr>\n",
       "      <th>...</th>\n",
       "      <td>...</td>\n",
       "      <td>...</td>\n",
       "      <td>...</td>\n",
       "      <td>...</td>\n",
       "      <td>...</td>\n",
       "      <td>...</td>\n",
       "    </tr>\n",
       "    <tr>\n",
       "      <th>13252</th>\n",
       "      <td>Whitefield</td>\n",
       "      <td>3453.0</td>\n",
       "      <td>4.0</td>\n",
       "      <td>231.00</td>\n",
       "      <td>5</td>\n",
       "      <td>6689.834926</td>\n",
       "    </tr>\n",
       "    <tr>\n",
       "      <th>13253</th>\n",
       "      <td>Richards Town</td>\n",
       "      <td>3600.0</td>\n",
       "      <td>5.0</td>\n",
       "      <td>400.00</td>\n",
       "      <td>4</td>\n",
       "      <td>11111.111111</td>\n",
       "    </tr>\n",
       "    <tr>\n",
       "      <th>13254</th>\n",
       "      <td>Raja Rajeshwari Nagar</td>\n",
       "      <td>1141.0</td>\n",
       "      <td>2.0</td>\n",
       "      <td>60.00</td>\n",
       "      <td>2</td>\n",
       "      <td>5258.545136</td>\n",
       "    </tr>\n",
       "    <tr>\n",
       "      <th>13255</th>\n",
       "      <td>Padmanabhanagar</td>\n",
       "      <td>4689.0</td>\n",
       "      <td>4.0</td>\n",
       "      <td>488.00</td>\n",
       "      <td>4</td>\n",
       "      <td>10407.336319</td>\n",
       "    </tr>\n",
       "    <tr>\n",
       "      <th>13256</th>\n",
       "      <td>Doddathoguru</td>\n",
       "      <td>550.0</td>\n",
       "      <td>1.0</td>\n",
       "      <td>17.00</td>\n",
       "      <td>1</td>\n",
       "      <td>3090.909091</td>\n",
       "    </tr>\n",
       "  </tbody>\n",
       "</table>\n",
       "<p>13257 rows × 6 columns</p>\n",
       "</div>"
      ],
      "text/plain": [
       "                       location  total_sqft  bath   price  size  \\\n",
       "0      Electronic City Phase II      1056.0   2.0   39.07     2   \n",
       "1              Chikka Tirupathi      2600.0   5.0  120.00     4   \n",
       "2                   Uttarahalli      1440.0   2.0   62.00     3   \n",
       "3            Lingadheeranahalli      1521.0   3.0   95.00     3   \n",
       "4                      Kothanur      1200.0   2.0   51.00     2   \n",
       "...                         ...         ...   ...     ...   ...   \n",
       "13252                Whitefield      3453.0   4.0  231.00     5   \n",
       "13253             Richards Town      3600.0   5.0  400.00     4   \n",
       "13254     Raja Rajeshwari Nagar      1141.0   2.0   60.00     2   \n",
       "13255           Padmanabhanagar      4689.0   4.0  488.00     4   \n",
       "13256              Doddathoguru       550.0   1.0   17.00     1   \n",
       "\n",
       "       price per sqft  \n",
       "0         3699.810606  \n",
       "1         4615.384615  \n",
       "2         4305.555556  \n",
       "3         6245.890861  \n",
       "4         4250.000000  \n",
       "...               ...  \n",
       "13252     6689.834926  \n",
       "13253    11111.111111  \n",
       "13254     5258.545136  \n",
       "13255    10407.336319  \n",
       "13256     3090.909091  \n",
       "\n",
       "[13257 rows x 6 columns]"
      ]
     },
     "execution_count": 73,
     "metadata": {},
     "output_type": "execute_result"
    }
   ],
   "source": [
    "df8"
   ]
  },
  {
   "cell_type": "code",
   "execution_count": 74,
   "id": "military-encoding",
   "metadata": {},
   "outputs": [
    {
     "data": {
      "text/plain": [
       "location\n",
       "Whitefield               538\n",
       "Sarjapur  Road           397\n",
       "Electronic City          304\n",
       "Kanakpura Road           271\n",
       "Thanisandra              236\n",
       "                        ... \n",
       "1 Giri Nagar               1\n",
       "Kanakapura Road,           1\n",
       "Kanakapura main  Road      1\n",
       "Kannur                     1\n",
       "whitefiled                 1\n",
       "Name: location, Length: 1287, dtype: int64"
      ]
     },
     "execution_count": 74,
     "metadata": {},
     "output_type": "execute_result"
    }
   ],
   "source": [
    "grp=df8.groupby('location')['location'].agg('count').sort_values(ascending=False)\n",
    "grp"
   ]
  },
  {
   "cell_type": "markdown",
   "id": "exclusive-cricket",
   "metadata": {},
   "source": [
    "Check the number of locations which are present in less than or equal to 10 rows."
   ]
  },
  {
   "cell_type": "code",
   "execution_count": 75,
   "id": "mighty-reaction",
   "metadata": {},
   "outputs": [
    {
     "data": {
      "text/plain": [
       "1047"
      ]
     },
     "execution_count": 75,
     "metadata": {},
     "output_type": "execute_result"
    }
   ],
   "source": [
    "len(grp[grp<=10])"
   ]
  },
  {
   "cell_type": "code",
   "execution_count": 76,
   "id": "civic-definition",
   "metadata": {},
   "outputs": [],
   "source": [
    "locations_lessthan_10=grp[grp<=10]"
   ]
  },
  {
   "cell_type": "code",
   "execution_count": 77,
   "id": "forty-patch",
   "metadata": {},
   "outputs": [],
   "source": [
    "df8['location']=df8['location'].apply(lambda x:'Other' if x in locations_lessthan_10 else x)"
   ]
  },
  {
   "cell_type": "code",
   "execution_count": 78,
   "id": "meaningful-arabic",
   "metadata": {},
   "outputs": [
    {
     "data": {
      "text/plain": [
       "241"
      ]
     },
     "execution_count": 78,
     "metadata": {},
     "output_type": "execute_result"
    }
   ],
   "source": [
    "len(df8.location.unique())"
   ]
  },
  {
   "cell_type": "code",
   "execution_count": 96,
   "id": "transparent-machine",
   "metadata": {},
   "outputs": [],
   "source": [
    "df8.to_csv('Dataset after feature engineering.csv')"
   ]
  },
  {
   "cell_type": "markdown",
   "id": "expanded-vitamin",
   "metadata": {},
   "source": [
    "# Outlier detection and removal"
   ]
  },
  {
   "cell_type": "markdown",
   "id": "christian-evening",
   "metadata": {},
   "source": [
    "An outlier is an object that deviates significantly from the rest of the objects. They can be caused by measurement or execution error."
   ]
  },
  {
   "cell_type": "markdown",
   "id": "related-announcement",
   "metadata": {},
   "source": [
    "Outlier 1: The minimum size of the room should be 200 sq. feet (Assume). So, we need to check if there are any houses with less than 200 sq. feet room size and remove them"
   ]
  },
  {
   "cell_type": "code",
   "execution_count": 79,
   "id": "typical-large",
   "metadata": {},
   "outputs": [],
   "source": [
    "df9=df8[~(df8['total_sqft']/df8['size']<200)]"
   ]
  },
  {
   "cell_type": "code",
   "execution_count": 80,
   "id": "weekly-blair",
   "metadata": {},
   "outputs": [
    {
     "data": {
      "text/plain": [
       "(12917, 6)"
      ]
     },
     "execution_count": 80,
     "metadata": {},
     "output_type": "execute_result"
    }
   ],
   "source": [
    "df9.shape"
   ]
  },
  {
   "cell_type": "code",
   "execution_count": 81,
   "id": "republican-weapon",
   "metadata": {},
   "outputs": [
    {
     "data": {
      "text/plain": [
       "count     12917.000000\n",
       "mean       6470.283179\n",
       "std        4346.390095\n",
       "min         267.829813\n",
       "25%        4200.000000\n",
       "50%        5333.333333\n",
       "75%        7083.333333\n",
       "max      176470.588235\n",
       "Name: price per sqft, dtype: float64"
      ]
     },
     "execution_count": 81,
     "metadata": {},
     "output_type": "execute_result"
    }
   ],
   "source": [
    "df9['price per sqft'].describe()"
   ]
  },
  {
   "cell_type": "code",
   "execution_count": 82,
   "id": "injured-script",
   "metadata": {},
   "outputs": [
    {
     "data": {
      "text/html": [
       "<div>\n",
       "<style scoped>\n",
       "    .dataframe tbody tr th:only-of-type {\n",
       "        vertical-align: middle;\n",
       "    }\n",
       "\n",
       "    .dataframe tbody tr th {\n",
       "        vertical-align: top;\n",
       "    }\n",
       "\n",
       "    .dataframe thead th {\n",
       "        text-align: right;\n",
       "    }\n",
       "</style>\n",
       "<table border=\"1\" class=\"dataframe\">\n",
       "  <thead>\n",
       "    <tr style=\"text-align: right;\">\n",
       "      <th></th>\n",
       "      <th>location</th>\n",
       "      <th>total_sqft</th>\n",
       "      <th>bath</th>\n",
       "      <th>price</th>\n",
       "      <th>size</th>\n",
       "      <th>price per sqft</th>\n",
       "    </tr>\n",
       "  </thead>\n",
       "  <tbody>\n",
       "    <tr>\n",
       "      <th>0</th>\n",
       "      <td>Electronic City Phase II</td>\n",
       "      <td>1056.0</td>\n",
       "      <td>2.0</td>\n",
       "      <td>39.07</td>\n",
       "      <td>2</td>\n",
       "      <td>3699.810606</td>\n",
       "    </tr>\n",
       "    <tr>\n",
       "      <th>1</th>\n",
       "      <td>Chikka Tirupathi</td>\n",
       "      <td>2600.0</td>\n",
       "      <td>5.0</td>\n",
       "      <td>120.00</td>\n",
       "      <td>4</td>\n",
       "      <td>4615.384615</td>\n",
       "    </tr>\n",
       "    <tr>\n",
       "      <th>2</th>\n",
       "      <td>Uttarahalli</td>\n",
       "      <td>1440.0</td>\n",
       "      <td>2.0</td>\n",
       "      <td>62.00</td>\n",
       "      <td>3</td>\n",
       "      <td>4305.555556</td>\n",
       "    </tr>\n",
       "    <tr>\n",
       "      <th>3</th>\n",
       "      <td>Lingadheeranahalli</td>\n",
       "      <td>1521.0</td>\n",
       "      <td>3.0</td>\n",
       "      <td>95.00</td>\n",
       "      <td>3</td>\n",
       "      <td>6245.890861</td>\n",
       "    </tr>\n",
       "    <tr>\n",
       "      <th>4</th>\n",
       "      <td>Kothanur</td>\n",
       "      <td>1200.0</td>\n",
       "      <td>2.0</td>\n",
       "      <td>51.00</td>\n",
       "      <td>2</td>\n",
       "      <td>4250.000000</td>\n",
       "    </tr>\n",
       "    <tr>\n",
       "      <th>...</th>\n",
       "      <td>...</td>\n",
       "      <td>...</td>\n",
       "      <td>...</td>\n",
       "      <td>...</td>\n",
       "      <td>...</td>\n",
       "      <td>...</td>\n",
       "    </tr>\n",
       "    <tr>\n",
       "      <th>13252</th>\n",
       "      <td>Whitefield</td>\n",
       "      <td>3453.0</td>\n",
       "      <td>4.0</td>\n",
       "      <td>231.00</td>\n",
       "      <td>5</td>\n",
       "      <td>6689.834926</td>\n",
       "    </tr>\n",
       "    <tr>\n",
       "      <th>13253</th>\n",
       "      <td>Other</td>\n",
       "      <td>3600.0</td>\n",
       "      <td>5.0</td>\n",
       "      <td>400.00</td>\n",
       "      <td>4</td>\n",
       "      <td>11111.111111</td>\n",
       "    </tr>\n",
       "    <tr>\n",
       "      <th>13254</th>\n",
       "      <td>Raja Rajeshwari Nagar</td>\n",
       "      <td>1141.0</td>\n",
       "      <td>2.0</td>\n",
       "      <td>60.00</td>\n",
       "      <td>2</td>\n",
       "      <td>5258.545136</td>\n",
       "    </tr>\n",
       "    <tr>\n",
       "      <th>13255</th>\n",
       "      <td>Padmanabhanagar</td>\n",
       "      <td>4689.0</td>\n",
       "      <td>4.0</td>\n",
       "      <td>488.00</td>\n",
       "      <td>4</td>\n",
       "      <td>10407.336319</td>\n",
       "    </tr>\n",
       "    <tr>\n",
       "      <th>13256</th>\n",
       "      <td>Doddathoguru</td>\n",
       "      <td>550.0</td>\n",
       "      <td>1.0</td>\n",
       "      <td>17.00</td>\n",
       "      <td>1</td>\n",
       "      <td>3090.909091</td>\n",
       "    </tr>\n",
       "  </tbody>\n",
       "</table>\n",
       "<p>12917 rows × 6 columns</p>\n",
       "</div>"
      ],
      "text/plain": [
       "                       location  total_sqft  bath   price  size  \\\n",
       "0      Electronic City Phase II      1056.0   2.0   39.07     2   \n",
       "1              Chikka Tirupathi      2600.0   5.0  120.00     4   \n",
       "2                   Uttarahalli      1440.0   2.0   62.00     3   \n",
       "3            Lingadheeranahalli      1521.0   3.0   95.00     3   \n",
       "4                      Kothanur      1200.0   2.0   51.00     2   \n",
       "...                         ...         ...   ...     ...   ...   \n",
       "13252                Whitefield      3453.0   4.0  231.00     5   \n",
       "13253                     Other      3600.0   5.0  400.00     4   \n",
       "13254     Raja Rajeshwari Nagar      1141.0   2.0   60.00     2   \n",
       "13255           Padmanabhanagar      4689.0   4.0  488.00     4   \n",
       "13256              Doddathoguru       550.0   1.0   17.00     1   \n",
       "\n",
       "       price per sqft  \n",
       "0         3699.810606  \n",
       "1         4615.384615  \n",
       "2         4305.555556  \n",
       "3         6245.890861  \n",
       "4         4250.000000  \n",
       "...               ...  \n",
       "13252     6689.834926  \n",
       "13253    11111.111111  \n",
       "13254     5258.545136  \n",
       "13255    10407.336319  \n",
       "13256     3090.909091  \n",
       "\n",
       "[12917 rows x 6 columns]"
      ]
     },
     "execution_count": 82,
     "metadata": {},
     "output_type": "execute_result"
    }
   ],
   "source": [
    "df9"
   ]
  },
  {
   "cell_type": "markdown",
   "id": "integral-reader",
   "metadata": {},
   "source": [
    "Outlier 2: Here, we can see that min. price per sqft is 267 which is highly impossible and max. price per sqft is 176470 which is possible but only in very few cases (in very high level areas). So, to build an ML model, it is better to remove very low priced data and very high priced data. This can be done by using standard deviation and mean. Let us assume that the 'price per sqft' column is normally distributed for all locations. \n",
    "\n",
    "Let us take data under 2 standard deviations i.e, 95% of the data are within 2 standard deviations of the mean."
   ]
  },
  {
   "cell_type": "code",
   "execution_count": 83,
   "id": "pretty-candy",
   "metadata": {},
   "outputs": [],
   "source": [
    "def remove_outlier2(df):\n",
    "    df_output=pd.DataFrame()\n",
    "    for location,its_df in df.groupby('location'):\n",
    "        mean_val=np.mean(its_df['price per sqft'])\n",
    "        std_val=np.std(its_df['price per sqft'])\n",
    "        reduced_df=its_df[(its_df['price per sqft']>(mean_val-2*std_val)) & (its_df['price per sqft']<(mean_val+2*std_val))] #brackets are important. keep them properly\n",
    "        df_output=pd.concat([df_output,reduced_df],ignore_index=True)\n",
    "    return df_output"
   ]
  },
  {
   "cell_type": "code",
   "execution_count": 84,
   "id": "superior-casting",
   "metadata": {},
   "outputs": [],
   "source": [
    "df10=remove_outlier2(df9)"
   ]
  },
  {
   "cell_type": "code",
   "execution_count": 85,
   "id": "normal-windsor",
   "metadata": {},
   "outputs": [
    {
     "data": {
      "text/html": [
       "<div>\n",
       "<style scoped>\n",
       "    .dataframe tbody tr th:only-of-type {\n",
       "        vertical-align: middle;\n",
       "    }\n",
       "\n",
       "    .dataframe tbody tr th {\n",
       "        vertical-align: top;\n",
       "    }\n",
       "\n",
       "    .dataframe thead th {\n",
       "        text-align: right;\n",
       "    }\n",
       "</style>\n",
       "<table border=\"1\" class=\"dataframe\">\n",
       "  <thead>\n",
       "    <tr style=\"text-align: right;\">\n",
       "      <th></th>\n",
       "      <th>location</th>\n",
       "      <th>total_sqft</th>\n",
       "      <th>bath</th>\n",
       "      <th>price</th>\n",
       "      <th>size</th>\n",
       "      <th>price per sqft</th>\n",
       "    </tr>\n",
       "  </thead>\n",
       "  <tbody>\n",
       "    <tr>\n",
       "      <th>0</th>\n",
       "      <td>1st Block Jayanagar</td>\n",
       "      <td>2850.0</td>\n",
       "      <td>4.0</td>\n",
       "      <td>428.00</td>\n",
       "      <td>4</td>\n",
       "      <td>15017.543860</td>\n",
       "    </tr>\n",
       "    <tr>\n",
       "      <th>1</th>\n",
       "      <td>1st Block Jayanagar</td>\n",
       "      <td>1630.0</td>\n",
       "      <td>3.0</td>\n",
       "      <td>194.00</td>\n",
       "      <td>3</td>\n",
       "      <td>11901.840491</td>\n",
       "    </tr>\n",
       "    <tr>\n",
       "      <th>2</th>\n",
       "      <td>1st Block Jayanagar</td>\n",
       "      <td>1200.0</td>\n",
       "      <td>6.0</td>\n",
       "      <td>125.00</td>\n",
       "      <td>6</td>\n",
       "      <td>10416.666667</td>\n",
       "    </tr>\n",
       "    <tr>\n",
       "      <th>3</th>\n",
       "      <td>1st Block Jayanagar</td>\n",
       "      <td>1875.0</td>\n",
       "      <td>2.0</td>\n",
       "      <td>235.00</td>\n",
       "      <td>3</td>\n",
       "      <td>12533.333333</td>\n",
       "    </tr>\n",
       "    <tr>\n",
       "      <th>4</th>\n",
       "      <td>1st Block Jayanagar</td>\n",
       "      <td>2400.0</td>\n",
       "      <td>4.0</td>\n",
       "      <td>450.00</td>\n",
       "      <td>4</td>\n",
       "      <td>18750.000000</td>\n",
       "    </tr>\n",
       "    <tr>\n",
       "      <th>...</th>\n",
       "      <td>...</td>\n",
       "      <td>...</td>\n",
       "      <td>...</td>\n",
       "      <td>...</td>\n",
       "      <td>...</td>\n",
       "      <td>...</td>\n",
       "    </tr>\n",
       "    <tr>\n",
       "      <th>12364</th>\n",
       "      <td>Yeshwanthpur</td>\n",
       "      <td>1676.0</td>\n",
       "      <td>3.0</td>\n",
       "      <td>92.13</td>\n",
       "      <td>3</td>\n",
       "      <td>5497.016706</td>\n",
       "    </tr>\n",
       "    <tr>\n",
       "      <th>12365</th>\n",
       "      <td>Yeshwanthpur</td>\n",
       "      <td>2503.0</td>\n",
       "      <td>3.0</td>\n",
       "      <td>138.00</td>\n",
       "      <td>3</td>\n",
       "      <td>5513.383939</td>\n",
       "    </tr>\n",
       "    <tr>\n",
       "      <th>12366</th>\n",
       "      <td>Yeshwanthpur</td>\n",
       "      <td>1855.0</td>\n",
       "      <td>3.0</td>\n",
       "      <td>135.00</td>\n",
       "      <td>3</td>\n",
       "      <td>7277.628032</td>\n",
       "    </tr>\n",
       "    <tr>\n",
       "      <th>12367</th>\n",
       "      <td>Yeshwanthpur</td>\n",
       "      <td>1876.0</td>\n",
       "      <td>3.0</td>\n",
       "      <td>160.00</td>\n",
       "      <td>3</td>\n",
       "      <td>8528.784648</td>\n",
       "    </tr>\n",
       "    <tr>\n",
       "      <th>12368</th>\n",
       "      <td>Yeshwanthpur</td>\n",
       "      <td>1675.0</td>\n",
       "      <td>3.0</td>\n",
       "      <td>92.13</td>\n",
       "      <td>3</td>\n",
       "      <td>5500.298507</td>\n",
       "    </tr>\n",
       "  </tbody>\n",
       "</table>\n",
       "<p>12369 rows × 6 columns</p>\n",
       "</div>"
      ],
      "text/plain": [
       "                  location  total_sqft  bath   price  size  price per sqft\n",
       "0      1st Block Jayanagar      2850.0   4.0  428.00     4    15017.543860\n",
       "1      1st Block Jayanagar      1630.0   3.0  194.00     3    11901.840491\n",
       "2      1st Block Jayanagar      1200.0   6.0  125.00     6    10416.666667\n",
       "3      1st Block Jayanagar      1875.0   2.0  235.00     3    12533.333333\n",
       "4      1st Block Jayanagar      2400.0   4.0  450.00     4    18750.000000\n",
       "...                    ...         ...   ...     ...   ...             ...\n",
       "12364         Yeshwanthpur      1676.0   3.0   92.13     3     5497.016706\n",
       "12365         Yeshwanthpur      2503.0   3.0  138.00     3     5513.383939\n",
       "12366         Yeshwanthpur      1855.0   3.0  135.00     3     7277.628032\n",
       "12367         Yeshwanthpur      1876.0   3.0  160.00     3     8528.784648\n",
       "12368         Yeshwanthpur      1675.0   3.0   92.13     3     5500.298507\n",
       "\n",
       "[12369 rows x 6 columns]"
      ]
     },
     "execution_count": 85,
     "metadata": {},
     "output_type": "execute_result"
    }
   ],
   "source": [
    "df10"
   ]
  },
  {
   "cell_type": "markdown",
   "id": "fiscal-significance",
   "metadata": {},
   "source": [
    "Outlier 3: In some locations, even though 2BHK and 3BHK has same total sq. feet or just closer, the price of 2BHK is greater than the price of 3BHK. This kind of data should be removed to train the model properly.\n",
    "\n",
    "Let us plot a scatter plot between total_sqft vs price for 2BHK and 3BHK for a single location..."
   ]
  },
  {
   "cell_type": "code",
   "execution_count": 86,
   "id": "capable-communications",
   "metadata": {},
   "outputs": [
    {
     "data": {
      "image/png": "[encoded data removed]",
      "text/plain": [
       "<Figure size 1440x720 with 1 Axes>"
      ]
     },
     "metadata": {
      "needs_background": "light"
     },
     "output_type": "display_data"
    }
   ],
   "source": [
    "def plotfunc(df10,location):\n",
    "    df_2bhk=df10[(df10['size']==2) & (df10['location']==location)]\n",
    "    df_3bhk=df10[(df10['size']==3) & (df10['location']==location)]\n",
    "    plt.scatter(df_2bhk.total_sqft,df_2bhk.price,c='g',label='2BHK',s=50)\n",
    "    plt.scatter(df_3bhk.total_sqft,df_3bhk.price,c='r',label='3BHK',s=50,marker='+')\n",
    "    plt.xlabel('Total sq. feet')\n",
    "    plt.ylabel('price')\n",
    "    plt.title('Scatter plot')\n",
    "    plt.legend()\n",
    "\n",
    "plotfunc(df10,'Rajaji Nagar')"
   ]
  },
  {
   "cell_type": "markdown",
   "id": "utility-activation",
   "metadata": {},
   "source": [
    "In the above graph, we can see that at some points, 3BHK price is less tham 2BHK price. So, we will delete 3BHK data in such cases."
   ]
  },
  {
   "cell_type": "code",
   "execution_count": 87,
   "id": "behavioral-hygiene",
   "metadata": {},
   "outputs": [],
   "source": [
    "def remove_odd_price_rows(df):\n",
    "    #create a numpy array to store indexes which are to be deleted\n",
    "    del_indexes=np.array([])\n",
    "    #iterate through all locations\n",
    "    for location,location_df in df.groupby('location'):\n",
    "        #create a dictionary to store mean and count of price per sq. feet for all BHKs\n",
    "        BHK_dict={}\n",
    "        #iterate through all BHKs\n",
    "        for BHK,BHK_df in location_df.groupby('size'):\n",
    "            BHK_dict[BHK]={\n",
    "                'mean':np.mean(BHK_df['price per sqft']),\n",
    "                'count':BHK_df.shape[0]\n",
    "            }\n",
    "        #again iterate through all BHKs\n",
    "        for BHK,BHK_df in location_df.groupby('size'):\n",
    "            \n",
    "            #store the previous room stats(mean and count) in prev_roomstats variable which is a dict (if 1BHK and 3BHK are there and 2BHK does not exist, then while the iterator is in 3BHK, 1BHK data will be stored in prev_roomstats)\n",
    "            prev_roomstats=None\n",
    "            for i in range(BHK-1,0,-1):\n",
    "                if BHK_dict.get(i)!=None:\n",
    "                    prev_roomstats=BHK_dict.get(i)\n",
    "                    break\n",
    "            \n",
    "            #check whether prev_roomstats exists or not and also we need to compare present BHK price per sq. feet with previous BHK mean price per sq. feet only when prev. BHK count is greater than 8.\n",
    "            if prev_roomstats and prev_roomstats['count']>5:\n",
    "                #store the indexes that needs to be deleted.\n",
    "                del_indexes=np.append(del_indexes,BHK_df[BHK_df['price per sqft']<prev_roomstats['mean']].index.values)\n",
    "                \n",
    "    return df.drop(del_indexes,axis='index')"
   ]
  },
  {
   "cell_type": "code",
   "execution_count": 88,
   "id": "numerical-circumstances",
   "metadata": {},
   "outputs": [
    {
     "data": {
      "text/html": [
       "<div>\n",
       "<style scoped>\n",
       "    .dataframe tbody tr th:only-of-type {\n",
       "        vertical-align: middle;\n",
       "    }\n",
       "\n",
       "    .dataframe tbody tr th {\n",
       "        vertical-align: top;\n",
       "    }\n",
       "\n",
       "    .dataframe thead th {\n",
       "        text-align: right;\n",
       "    }\n",
       "</style>\n",
       "<table border=\"1\" class=\"dataframe\">\n",
       "  <thead>\n",
       "    <tr style=\"text-align: right;\">\n",
       "      <th></th>\n",
       "      <th>location</th>\n",
       "      <th>total_sqft</th>\n",
       "      <th>bath</th>\n",
       "      <th>price</th>\n",
       "      <th>size</th>\n",
       "      <th>price per sqft</th>\n",
       "    </tr>\n",
       "  </thead>\n",
       "  <tbody>\n",
       "    <tr>\n",
       "      <th>0</th>\n",
       "      <td>1st Block Jayanagar</td>\n",
       "      <td>2850.0</td>\n",
       "      <td>4.0</td>\n",
       "      <td>428.00</td>\n",
       "      <td>4</td>\n",
       "      <td>15017.543860</td>\n",
       "    </tr>\n",
       "    <tr>\n",
       "      <th>1</th>\n",
       "      <td>1st Block Jayanagar</td>\n",
       "      <td>1630.0</td>\n",
       "      <td>3.0</td>\n",
       "      <td>194.00</td>\n",
       "      <td>3</td>\n",
       "      <td>11901.840491</td>\n",
       "    </tr>\n",
       "    <tr>\n",
       "      <th>2</th>\n",
       "      <td>1st Block Jayanagar</td>\n",
       "      <td>1200.0</td>\n",
       "      <td>6.0</td>\n",
       "      <td>125.00</td>\n",
       "      <td>6</td>\n",
       "      <td>10416.666667</td>\n",
       "    </tr>\n",
       "    <tr>\n",
       "      <th>3</th>\n",
       "      <td>1st Block Jayanagar</td>\n",
       "      <td>1875.0</td>\n",
       "      <td>2.0</td>\n",
       "      <td>235.00</td>\n",
       "      <td>3</td>\n",
       "      <td>12533.333333</td>\n",
       "    </tr>\n",
       "    <tr>\n",
       "      <th>4</th>\n",
       "      <td>1st Block Jayanagar</td>\n",
       "      <td>2400.0</td>\n",
       "      <td>4.0</td>\n",
       "      <td>450.00</td>\n",
       "      <td>4</td>\n",
       "      <td>18750.000000</td>\n",
       "    </tr>\n",
       "    <tr>\n",
       "      <th>...</th>\n",
       "      <td>...</td>\n",
       "      <td>...</td>\n",
       "      <td>...</td>\n",
       "      <td>...</td>\n",
       "      <td>...</td>\n",
       "      <td>...</td>\n",
       "    </tr>\n",
       "    <tr>\n",
       "      <th>12358</th>\n",
       "      <td>Yeshwanthpur</td>\n",
       "      <td>1195.0</td>\n",
       "      <td>2.0</td>\n",
       "      <td>100.00</td>\n",
       "      <td>2</td>\n",
       "      <td>8368.200837</td>\n",
       "    </tr>\n",
       "    <tr>\n",
       "      <th>12361</th>\n",
       "      <td>Yeshwanthpur</td>\n",
       "      <td>2500.0</td>\n",
       "      <td>5.0</td>\n",
       "      <td>185.00</td>\n",
       "      <td>6</td>\n",
       "      <td>7400.000000</td>\n",
       "    </tr>\n",
       "    <tr>\n",
       "      <th>12363</th>\n",
       "      <td>Yeshwanthpur</td>\n",
       "      <td>1160.0</td>\n",
       "      <td>2.0</td>\n",
       "      <td>64.08</td>\n",
       "      <td>2</td>\n",
       "      <td>5524.137931</td>\n",
       "    </tr>\n",
       "    <tr>\n",
       "      <th>12366</th>\n",
       "      <td>Yeshwanthpur</td>\n",
       "      <td>1855.0</td>\n",
       "      <td>3.0</td>\n",
       "      <td>135.00</td>\n",
       "      <td>3</td>\n",
       "      <td>7277.628032</td>\n",
       "    </tr>\n",
       "    <tr>\n",
       "      <th>12367</th>\n",
       "      <td>Yeshwanthpur</td>\n",
       "      <td>1876.0</td>\n",
       "      <td>3.0</td>\n",
       "      <td>160.00</td>\n",
       "      <td>3</td>\n",
       "      <td>8528.784648</td>\n",
       "    </tr>\n",
       "  </tbody>\n",
       "</table>\n",
       "<p>8703 rows × 6 columns</p>\n",
       "</div>"
      ],
      "text/plain": [
       "                  location  total_sqft  bath   price  size  price per sqft\n",
       "0      1st Block Jayanagar      2850.0   4.0  428.00     4    15017.543860\n",
       "1      1st Block Jayanagar      1630.0   3.0  194.00     3    11901.840491\n",
       "2      1st Block Jayanagar      1200.0   6.0  125.00     6    10416.666667\n",
       "3      1st Block Jayanagar      1875.0   2.0  235.00     3    12533.333333\n",
       "4      1st Block Jayanagar      2400.0   4.0  450.00     4    18750.000000\n",
       "...                    ...         ...   ...     ...   ...             ...\n",
       "12358         Yeshwanthpur      1195.0   2.0  100.00     2     8368.200837\n",
       "12361         Yeshwanthpur      2500.0   5.0  185.00     6     7400.000000\n",
       "12363         Yeshwanthpur      1160.0   2.0   64.08     2     5524.137931\n",
       "12366         Yeshwanthpur      1855.0   3.0  135.00     3     7277.628032\n",
       "12367         Yeshwanthpur      1876.0   3.0  160.00     3     8528.784648\n",
       "\n",
       "[8703 rows x 6 columns]"
      ]
     },
     "execution_count": 88,
     "metadata": {},
     "output_type": "execute_result"
    }
   ],
   "source": [
    "df11 = remove_odd_price_rows(df10)\n",
    "df11"
   ]
  },
  {
   "cell_type": "code",
   "execution_count": 89,
   "id": "unauthorized-relationship",
   "metadata": {},
   "outputs": [
    {
     "data": {
      "image/png": "[encoded data removed]",
      "text/plain": [
       "<Figure size 1440x720 with 1 Axes>"
      ]
     },
     "metadata": {
      "needs_background": "light"
     },
     "output_type": "display_data"
    }
   ],
   "source": [
    "plotfunc(df11,'Rajaji Nagar')"
   ]
  },
  {
   "cell_type": "code",
   "execution_count": 90,
   "id": "imperial-things",
   "metadata": {},
   "outputs": [
    {
     "data": {
      "image/png": "[encoded data removed]",
      "text/plain": [
       "<Figure size 1440x720 with 1 Axes>"
      ]
     },
     "metadata": {
      "needs_background": "light"
     },
     "output_type": "display_data"
    }
   ],
   "source": [
    "plotfunc(df10,'Rajaji Nagar')"
   ]
  },
  {
   "cell_type": "markdown",
   "id": "expired-payroll",
   "metadata": {},
   "source": [
    "Outlier 4: There are some houses where number of bathrooms are greater than number of bedrooms. It is usual for a 2 bedroom house having 3 bathrooms but having 6 bathrooms for a 3 bedroom house is unusual. So, we will delete all rows whose number of bathrooms are greater than number of bedrooms+2."
   ]
  },
  {
   "cell_type": "code",
   "execution_count": 91,
   "id": "recorded-merchandise",
   "metadata": {},
   "outputs": [
    {
     "data": {
      "text/html": [
       "<div>\n",
       "<style scoped>\n",
       "    .dataframe tbody tr th:only-of-type {\n",
       "        vertical-align: middle;\n",
       "    }\n",
       "\n",
       "    .dataframe tbody tr th {\n",
       "        vertical-align: top;\n",
       "    }\n",
       "\n",
       "    .dataframe thead th {\n",
       "        text-align: right;\n",
       "    }\n",
       "</style>\n",
       "<table border=\"1\" class=\"dataframe\">\n",
       "  <thead>\n",
       "    <tr style=\"text-align: right;\">\n",
       "      <th></th>\n",
       "      <th>location</th>\n",
       "      <th>total_sqft</th>\n",
       "      <th>bath</th>\n",
       "      <th>price</th>\n",
       "      <th>size</th>\n",
       "      <th>price per sqft</th>\n",
       "    </tr>\n",
       "  </thead>\n",
       "  <tbody>\n",
       "    <tr>\n",
       "      <th>68</th>\n",
       "      <td>5th Block Hbr Layout</td>\n",
       "      <td>2600.0</td>\n",
       "      <td>12.0</td>\n",
       "      <td>675.0</td>\n",
       "      <td>9</td>\n",
       "      <td>25961.538462</td>\n",
       "    </tr>\n",
       "    <tr>\n",
       "      <th>1822</th>\n",
       "      <td>Chamrajpet</td>\n",
       "      <td>1500.0</td>\n",
       "      <td>9.0</td>\n",
       "      <td>230.0</td>\n",
       "      <td>6</td>\n",
       "      <td>15333.333333</td>\n",
       "    </tr>\n",
       "    <tr>\n",
       "      <th>1977</th>\n",
       "      <td>Chikkabanavar</td>\n",
       "      <td>2460.0</td>\n",
       "      <td>7.0</td>\n",
       "      <td>80.0</td>\n",
       "      <td>4</td>\n",
       "      <td>3252.032520</td>\n",
       "    </tr>\n",
       "    <tr>\n",
       "      <th>6439</th>\n",
       "      <td>Nagasandra</td>\n",
       "      <td>7000.0</td>\n",
       "      <td>8.0</td>\n",
       "      <td>450.0</td>\n",
       "      <td>4</td>\n",
       "      <td>6428.571429</td>\n",
       "    </tr>\n",
       "    <tr>\n",
       "      <th>6847</th>\n",
       "      <td>Other</td>\n",
       "      <td>3300.0</td>\n",
       "      <td>14.0</td>\n",
       "      <td>500.0</td>\n",
       "      <td>9</td>\n",
       "      <td>15151.515152</td>\n",
       "    </tr>\n",
       "    <tr>\n",
       "      <th>8212</th>\n",
       "      <td>Other</td>\n",
       "      <td>1850.0</td>\n",
       "      <td>12.0</td>\n",
       "      <td>300.0</td>\n",
       "      <td>8</td>\n",
       "      <td>16216.216216</td>\n",
       "    </tr>\n",
       "    <tr>\n",
       "      <th>9699</th>\n",
       "      <td>Rajaji Nagar</td>\n",
       "      <td>7500.0</td>\n",
       "      <td>8.0</td>\n",
       "      <td>1700.0</td>\n",
       "      <td>5</td>\n",
       "      <td>22666.666667</td>\n",
       "    </tr>\n",
       "    <tr>\n",
       "      <th>10949</th>\n",
       "      <td>Thanisandra</td>\n",
       "      <td>1806.0</td>\n",
       "      <td>6.0</td>\n",
       "      <td>116.0</td>\n",
       "      <td>3</td>\n",
       "      <td>6423.034330</td>\n",
       "    </tr>\n",
       "  </tbody>\n",
       "</table>\n",
       "</div>"
      ],
      "text/plain": [
       "                   location  total_sqft  bath   price  size  price per sqft\n",
       "68     5th Block Hbr Layout      2600.0  12.0   675.0     9    25961.538462\n",
       "1822             Chamrajpet      1500.0   9.0   230.0     6    15333.333333\n",
       "1977          Chikkabanavar      2460.0   7.0    80.0     4     3252.032520\n",
       "6439             Nagasandra      7000.0   8.0   450.0     4     6428.571429\n",
       "6847                  Other      3300.0  14.0   500.0     9    15151.515152\n",
       "8212                  Other      1850.0  12.0   300.0     8    16216.216216\n",
       "9699           Rajaji Nagar      7500.0   8.0  1700.0     5    22666.666667\n",
       "10949           Thanisandra      1806.0   6.0   116.0     3     6423.034330"
      ]
     },
     "execution_count": 91,
     "metadata": {},
     "output_type": "execute_result"
    }
   ],
   "source": [
    "df11[(df11['bath']>df11['size']+2)]"
   ]
  },
  {
   "cell_type": "code",
   "execution_count": 92,
   "id": "mighty-overall",
   "metadata": {},
   "outputs": [],
   "source": [
    "df12=df11[~(df11['bath']>df11['size']+2)]"
   ]
  },
  {
   "cell_type": "code",
   "execution_count": 93,
   "id": "progressive-bearing",
   "metadata": {},
   "outputs": [
    {
     "data": {
      "text/html": [
       "<div>\n",
       "<style scoped>\n",
       "    .dataframe tbody tr th:only-of-type {\n",
       "        vertical-align: middle;\n",
       "    }\n",
       "\n",
       "    .dataframe tbody tr th {\n",
       "        vertical-align: top;\n",
       "    }\n",
       "\n",
       "    .dataframe thead th {\n",
       "        text-align: right;\n",
       "    }\n",
       "</style>\n",
       "<table border=\"1\" class=\"dataframe\">\n",
       "  <thead>\n",
       "    <tr style=\"text-align: right;\">\n",
       "      <th></th>\n",
       "      <th>location</th>\n",
       "      <th>total_sqft</th>\n",
       "      <th>bath</th>\n",
       "      <th>price</th>\n",
       "      <th>size</th>\n",
       "      <th>price per sqft</th>\n",
       "    </tr>\n",
       "  </thead>\n",
       "  <tbody>\n",
       "    <tr>\n",
       "      <th>0</th>\n",
       "      <td>1st Block Jayanagar</td>\n",
       "      <td>2850.0</td>\n",
       "      <td>4.0</td>\n",
       "      <td>428.00</td>\n",
       "      <td>4</td>\n",
       "      <td>15017.543860</td>\n",
       "    </tr>\n",
       "    <tr>\n",
       "      <th>1</th>\n",
       "      <td>1st Block Jayanagar</td>\n",
       "      <td>1630.0</td>\n",
       "      <td>3.0</td>\n",
       "      <td>194.00</td>\n",
       "      <td>3</td>\n",
       "      <td>11901.840491</td>\n",
       "    </tr>\n",
       "    <tr>\n",
       "      <th>2</th>\n",
       "      <td>1st Block Jayanagar</td>\n",
       "      <td>1200.0</td>\n",
       "      <td>6.0</td>\n",
       "      <td>125.00</td>\n",
       "      <td>6</td>\n",
       "      <td>10416.666667</td>\n",
       "    </tr>\n",
       "    <tr>\n",
       "      <th>3</th>\n",
       "      <td>1st Block Jayanagar</td>\n",
       "      <td>1875.0</td>\n",
       "      <td>2.0</td>\n",
       "      <td>235.00</td>\n",
       "      <td>3</td>\n",
       "      <td>12533.333333</td>\n",
       "    </tr>\n",
       "    <tr>\n",
       "      <th>4</th>\n",
       "      <td>1st Block Jayanagar</td>\n",
       "      <td>2400.0</td>\n",
       "      <td>4.0</td>\n",
       "      <td>450.00</td>\n",
       "      <td>4</td>\n",
       "      <td>18750.000000</td>\n",
       "    </tr>\n",
       "    <tr>\n",
       "      <th>...</th>\n",
       "      <td>...</td>\n",
       "      <td>...</td>\n",
       "      <td>...</td>\n",
       "      <td>...</td>\n",
       "      <td>...</td>\n",
       "      <td>...</td>\n",
       "    </tr>\n",
       "    <tr>\n",
       "      <th>12358</th>\n",
       "      <td>Yeshwanthpur</td>\n",
       "      <td>1195.0</td>\n",
       "      <td>2.0</td>\n",
       "      <td>100.00</td>\n",
       "      <td>2</td>\n",
       "      <td>8368.200837</td>\n",
       "    </tr>\n",
       "    <tr>\n",
       "      <th>12361</th>\n",
       "      <td>Yeshwanthpur</td>\n",
       "      <td>2500.0</td>\n",
       "      <td>5.0</td>\n",
       "      <td>185.00</td>\n",
       "      <td>6</td>\n",
       "      <td>7400.000000</td>\n",
       "    </tr>\n",
       "    <tr>\n",
       "      <th>12363</th>\n",
       "      <td>Yeshwanthpur</td>\n",
       "      <td>1160.0</td>\n",
       "      <td>2.0</td>\n",
       "      <td>64.08</td>\n",
       "      <td>2</td>\n",
       "      <td>5524.137931</td>\n",
       "    </tr>\n",
       "    <tr>\n",
       "      <th>12366</th>\n",
       "      <td>Yeshwanthpur</td>\n",
       "      <td>1855.0</td>\n",
       "      <td>3.0</td>\n",
       "      <td>135.00</td>\n",
       "      <td>3</td>\n",
       "      <td>7277.628032</td>\n",
       "    </tr>\n",
       "    <tr>\n",
       "      <th>12367</th>\n",
       "      <td>Yeshwanthpur</td>\n",
       "      <td>1876.0</td>\n",
       "      <td>3.0</td>\n",
       "      <td>160.00</td>\n",
       "      <td>3</td>\n",
       "      <td>8528.784648</td>\n",
       "    </tr>\n",
       "  </tbody>\n",
       "</table>\n",
       "<p>8695 rows × 6 columns</p>\n",
       "</div>"
      ],
      "text/plain": [
       "                  location  total_sqft  bath   price  size  price per sqft\n",
       "0      1st Block Jayanagar      2850.0   4.0  428.00     4    15017.543860\n",
       "1      1st Block Jayanagar      1630.0   3.0  194.00     3    11901.840491\n",
       "2      1st Block Jayanagar      1200.0   6.0  125.00     6    10416.666667\n",
       "3      1st Block Jayanagar      1875.0   2.0  235.00     3    12533.333333\n",
       "4      1st Block Jayanagar      2400.0   4.0  450.00     4    18750.000000\n",
       "...                    ...         ...   ...     ...   ...             ...\n",
       "12358         Yeshwanthpur      1195.0   2.0  100.00     2     8368.200837\n",
       "12361         Yeshwanthpur      2500.0   5.0  185.00     6     7400.000000\n",
       "12363         Yeshwanthpur      1160.0   2.0   64.08     2     5524.137931\n",
       "12366         Yeshwanthpur      1855.0   3.0  135.00     3     7277.628032\n",
       "12367         Yeshwanthpur      1876.0   3.0  160.00     3     8528.784648\n",
       "\n",
       "[8695 rows x 6 columns]"
      ]
     },
     "execution_count": 93,
     "metadata": {},
     "output_type": "execute_result"
    }
   ],
   "source": [
    "df12"
   ]
  },
  {
   "cell_type": "markdown",
   "id": "geographic-monte",
   "metadata": {},
   "source": [
    "So, the outliers are successfully removed. We have price per sqft column just to detect outliers. so, we will now delete price per sqft column."
   ]
  },
  {
   "cell_type": "code",
   "execution_count": 94,
   "id": "broad-mounting",
   "metadata": {},
   "outputs": [
    {
     "data": {
      "text/html": [
       "<div>\n",
       "<style scoped>\n",
       "    .dataframe tbody tr th:only-of-type {\n",
       "        vertical-align: middle;\n",
       "    }\n",
       "\n",
       "    .dataframe tbody tr th {\n",
       "        vertical-align: top;\n",
       "    }\n",
       "\n",
       "    .dataframe thead th {\n",
       "        text-align: right;\n",
       "    }\n",
       "</style>\n",
       "<table border=\"1\" class=\"dataframe\">\n",
       "  <thead>\n",
       "    <tr style=\"text-align: right;\">\n",
       "      <th></th>\n",
       "      <th>location</th>\n",
       "      <th>total_sqft</th>\n",
       "      <th>bath</th>\n",
       "      <th>price</th>\n",
       "      <th>size</th>\n",
       "    </tr>\n",
       "  </thead>\n",
       "  <tbody>\n",
       "    <tr>\n",
       "      <th>0</th>\n",
       "      <td>1st Block Jayanagar</td>\n",
       "      <td>2850.0</td>\n",
       "      <td>4.0</td>\n",
       "      <td>428.00</td>\n",
       "      <td>4</td>\n",
       "    </tr>\n",
       "    <tr>\n",
       "      <th>1</th>\n",
       "      <td>1st Block Jayanagar</td>\n",
       "      <td>1630.0</td>\n",
       "      <td>3.0</td>\n",
       "      <td>194.00</td>\n",
       "      <td>3</td>\n",
       "    </tr>\n",
       "    <tr>\n",
       "      <th>2</th>\n",
       "      <td>1st Block Jayanagar</td>\n",
       "      <td>1200.0</td>\n",
       "      <td>6.0</td>\n",
       "      <td>125.00</td>\n",
       "      <td>6</td>\n",
       "    </tr>\n",
       "    <tr>\n",
       "      <th>3</th>\n",
       "      <td>1st Block Jayanagar</td>\n",
       "      <td>1875.0</td>\n",
       "      <td>2.0</td>\n",
       "      <td>235.00</td>\n",
       "      <td>3</td>\n",
       "    </tr>\n",
       "    <tr>\n",
       "      <th>4</th>\n",
       "      <td>1st Block Jayanagar</td>\n",
       "      <td>2400.0</td>\n",
       "      <td>4.0</td>\n",
       "      <td>450.00</td>\n",
       "      <td>4</td>\n",
       "    </tr>\n",
       "    <tr>\n",
       "      <th>...</th>\n",
       "      <td>...</td>\n",
       "      <td>...</td>\n",
       "      <td>...</td>\n",
       "      <td>...</td>\n",
       "      <td>...</td>\n",
       "    </tr>\n",
       "    <tr>\n",
       "      <th>12358</th>\n",
       "      <td>Yeshwanthpur</td>\n",
       "      <td>1195.0</td>\n",
       "      <td>2.0</td>\n",
       "      <td>100.00</td>\n",
       "      <td>2</td>\n",
       "    </tr>\n",
       "    <tr>\n",
       "      <th>12361</th>\n",
       "      <td>Yeshwanthpur</td>\n",
       "      <td>2500.0</td>\n",
       "      <td>5.0</td>\n",
       "      <td>185.00</td>\n",
       "      <td>6</td>\n",
       "    </tr>\n",
       "    <tr>\n",
       "      <th>12363</th>\n",
       "      <td>Yeshwanthpur</td>\n",
       "      <td>1160.0</td>\n",
       "      <td>2.0</td>\n",
       "      <td>64.08</td>\n",
       "      <td>2</td>\n",
       "    </tr>\n",
       "    <tr>\n",
       "      <th>12366</th>\n",
       "      <td>Yeshwanthpur</td>\n",
       "      <td>1855.0</td>\n",
       "      <td>3.0</td>\n",
       "      <td>135.00</td>\n",
       "      <td>3</td>\n",
       "    </tr>\n",
       "    <tr>\n",
       "      <th>12367</th>\n",
       "      <td>Yeshwanthpur</td>\n",
       "      <td>1876.0</td>\n",
       "      <td>3.0</td>\n",
       "      <td>160.00</td>\n",
       "      <td>3</td>\n",
       "    </tr>\n",
       "  </tbody>\n",
       "</table>\n",
       "<p>8695 rows × 5 columns</p>\n",
       "</div>"
      ],
      "text/plain": [
       "                  location  total_sqft  bath   price  size\n",
       "0      1st Block Jayanagar      2850.0   4.0  428.00     4\n",
       "1      1st Block Jayanagar      1630.0   3.0  194.00     3\n",
       "2      1st Block Jayanagar      1200.0   6.0  125.00     6\n",
       "3      1st Block Jayanagar      1875.0   2.0  235.00     3\n",
       "4      1st Block Jayanagar      2400.0   4.0  450.00     4\n",
       "...                    ...         ...   ...     ...   ...\n",
       "12358         Yeshwanthpur      1195.0   2.0  100.00     2\n",
       "12361         Yeshwanthpur      2500.0   5.0  185.00     6\n",
       "12363         Yeshwanthpur      1160.0   2.0   64.08     2\n",
       "12366         Yeshwanthpur      1855.0   3.0  135.00     3\n",
       "12367         Yeshwanthpur      1876.0   3.0  160.00     3\n",
       "\n",
       "[8695 rows x 5 columns]"
      ]
     },
     "execution_count": 94,
     "metadata": {},
     "output_type": "execute_result"
    }
   ],
   "source": [
    "df13=df12.drop('price per sqft',axis='columns')\n",
    "df13"
   ]
  },
  {
   "cell_type": "code",
   "execution_count": 97,
   "id": "twelve-scene",
   "metadata": {},
   "outputs": [],
   "source": [
    "df13.to_csv('Dataset after outlier removal.csv')"
   ]
  }
 ],
 "metadata": {
  "kernelspec": {
   "display_name": "Python 3",
   "language": "python",
   "name": "python3"
  },
  "language_info": {
   "codemirror_mode": {
    "name": "ipython",
    "version": 3
   },
   "file_extension": ".py",
   "mimetype": "text/x-python",
   "name": "python",
   "nbconvert_exporter": "python",
   "pygments_lexer": "ipython3",
   "version": "3.8.5"
  }
 },
 "nbformat": 4,
 "nbformat_minor": 5
}
